{
 "cells": [
  {
   "cell_type": "markdown",
   "metadata": {},
   "source": [
    "<h1>Portfolio Optimisation</h1>\n",
    "In this project, we will try to implement the conditional portfolio optimisation method for capital allocation. The paper does not explicit state the implementation of this, so we will try to prototype it with python using machine learning methods. The model will be given a list of tickers which are highly probable to be profitable, and then we use conditional portfolio optimisation to optimise the capital allocation according to current market sentiment.\n",
    "\n",
    "Part 1, we will first try to find the tickers with highest probability of profit by implementing the method outlined in the paper in the Journal of Forecasting.\n",
    "\n",
    "Part 2, we will use previously collected tickers to form a optimised allocation of capital. In order for this to work, essentially we plug in macroeconomic data to represent the general market sentiment and also the allocation of tickers which will be generated as a grid, then we get a predicted output which will be the thing we are trying to maximise, in this example we will try to maximise 60 day sharpe ratio, annualised return (365D) <-> alpha, also the weighted sum of sharpe ratio and return (want to account for both), and we just rank the output and use the combination with the highest objective value. However, we note that the complexity of the problem scales exponentially which means that we will need to be selective in terms of the grid search when searching for optimal allocations."
   ]
  },
  {
   "cell_type": "markdown",
   "metadata": {},
   "source": [
    "<h1>Part 1: Stock selection with machine learning</h1>\n",
    "As outlined in the paper, we will select stock tickers using several different machine learning models and also an ensemble model (which had shown to produced best returns). For simplicity sake, we will only be using stocks listed on NASDAQ (5044 tickers)"
   ]
  },
  {
   "cell_type": "code",
   "execution_count": 2,
   "metadata": {},
   "outputs": [],
   "source": [
    "import pandas as pd\n",
    "import requests\n",
    "import numpy as np\n",
    "import json\n",
    "import yfinance as yf\n",
    "# Download stock tickers listed on NASDAQ (use if NASDAQ have new listings)\n",
    "\"\"\"\n",
    "EXCHANGE_CODE=\"NASDAQ\"\n",
    "url = f\"https://eodhd.com/api/exchange-symbol-list/{EXCHANGE_CODE}?api_token=667822cc36e777.79338265&fmt=json\"\n",
    "response = requests.get(url)\n",
    "ticker_data = pd.DataFrame(response.json())\n",
    "ticker_data.to_csv(\"tickers.csv\", index=False)\n",
    "ticker_data\n",
    "\"\"\"\n",
    "\n",
    "# Load stock tickers\n",
    "ticker_data = pd.read_csv(\"tickers.csv\")\n",
    "\n",
    "# Load into list\n",
    "ticker_list = list(ticker_data[\"Code\"]) # Easier to plug into EOD api call\n",
    "ticker_list"
   ]
  },
  {
   "cell_type": "markdown",
   "metadata": {},
   "source": [
    "<h1>Part 2: Conditional Portfolio Optimisation</h1>"
   ]
  },
  {
   "cell_type": "code",
   "execution_count": 51,
   "metadata": {},
   "outputs": [
    {
     "name": "stdout",
     "output_type": "stream",
     "text": [
      "[-1.0856306   0.99734545  0.2829785  -1.50629471 -0.57860025  1.65143654\n",
      " -2.42667924 -0.42891263  1.26593626 -0.8667404 ]\n",
      "[-0.67888615 -0.09470897  1.49138963 -0.638902   -0.44398196 -0.43435128\n",
      "  2.20593008  2.18678609  1.0040539   0.3861864   0.73736858]\n"
     ]
    },
    {
     "data": {
      "text/plain": [
       "0.13102032113541398"
      ]
     },
     "execution_count": 51,
     "metadata": {},
     "output_type": "execute_result"
    }
   ],
   "source": [
    "# We first want to define a few objective functions we are trying to maximise\n",
    "def alpha(rp: float, rm: float, rf_rate: float, beta: float) -> float:\n",
    "    \"\"\"\n",
    "    rp: the return of the portfolio\n",
    "    rm: the return of the market\n",
    "    rf_rate: the risk free rate\n",
    "    beta: assets beta\n",
    "    \"\"\"\n",
    "    return (rp - rf_rate - beta * (rm - rf_rate))\n",
    "def beta(asset_price_series:list[float], market_price_series:list[float]) -> float:\n",
    "    if len(asset_price_series) > len(market_price_series):\n",
    "        asset_price_series = asset_price_series[len(asset_price_series) - len(market_price_series):]\n",
    "    elif len(market_price_series) > len(asset_price_series):\n",
    "        market_price_series = market_price_series[len(market_price_series) - len(asset_price_series):]\n",
    "    covariance: float = np.sum((asset_price_series - np.mean(asset_price_series)) * (market_price_series - np.mean(market_price_series))) / len(asset_price_series)\n",
    "    variance: float = np.var(market_price_series)\n",
    "    return covariance / variance\n",
    "\n",
    "# Demonstration\n",
    "np.random.seed(123)\n",
    "series_1 = np.random.randn(10)\n",
    "\n",
    "series_2 = np.random.randn(11)\n",
    "b = beta(series_1, series_2)\n",
    "rp = (series_1[-1] - series_1[0]) / series_1[0]\n",
    "rm = (series_2[-1] - series_2[0]) / series_2[0]\n",
    "rf_rate = 4.2/100\n",
    "print(series_1)\n",
    "print(series_2)\n",
    "alpha(rp, rm, rf_rate, b)"
   ]
  }
 ],
 "metadata": {
  "kernelspec": {
   "display_name": "Python 3",
   "language": "python",
   "name": "python3"
  },
  "language_info": {
   "codemirror_mode": {
    "name": "ipython",
    "version": 3
   },
   "file_extension": ".py",
   "mimetype": "text/x-python",
   "name": "python",
   "nbconvert_exporter": "python",
   "pygments_lexer": "ipython3",
   "version": "3.9.13"
  }
 },
 "nbformat": 4,
 "nbformat_minor": 2
}
