{
 "cells": [
  {
   "cell_type": "markdown",
   "metadata": {},
   "source": [
    "<h1>Portfolio Optimisation</h1>\n",
    "In this project, we will try to implement the conditional portfolio optimisation method for capital allocation. The paper does not explicit state the implementation of this, so we will try to prototype it with python using machine learning methods. The model will be given a list of tickers which are highly probable to be profitable, and then we use conditional portfolio optimisation to optimise the capital allocation according to current market sentiment.\n",
    "\n",
    "Part 1, we will first try to find the tickers with highest probability of profit by implementing the method outlined in the paper in the Journal of Forecasting.\n",
    "\n",
    "Part 2, we will use previously collected tickers to form a optimised allocation of capital. In order for this to work, essentially we plug in macroeconomic data to represent the general market sentiment and also the allocation of tickers which will be generated as a grid, then we get a predicted output which will be the thing we are trying to maximise, in this example we will try to maximise 60 day sharpe ratio, annualised return (365D) <-> alpha, also the weighted sum of sharpe ratio and return (want to account for both), and we just rank the output and use the combination with the highest objective value. However, we note that the complexity of the problem scales exponentially which means that we will need to be selective in terms of the grid search when searching for optimal allocations."
   ]
  },
  {
   "cell_type": "markdown",
   "metadata": {},
   "source": [
    "<h1>Part 1: Stock selection with machine learning</h1>\n",
    "As outlined in the paper, we will select stock tickers using several different machine learning models and also an ensemble model (which had shown to produced best returns). For simplicity sake, we will only be using stocks listed on NASDAQ (5044 tickers)"
   ]
  },
  {
   "cell_type": "code",
   "execution_count": 4,
   "metadata": {},
   "outputs": [],
   "source": [
    "import requests\n",
    "from IPython.display import clear_output\n",
    "import json\n",
    "def get_fundamental_data(ticker_list):\n",
    "    progress = 1\n",
    "    for i in range(len(ticker_list)):\n",
    "        # Fetch Data\n",
    "        url = f\"https://eodhd.com/api/fundamentals/{ticker_list[i]}?api_token=667822cc36e777.79338265&fmt=json\"\n",
    "        try:\n",
    "            response = requests.get(url).json()\n",
    "        except:\n",
    "            continue\n",
    "        append_to_file(response)\n",
    "\n",
    "        # Show progression\n",
    "        progress = (i/len(ticker_list)*100)\n",
    "        num_stars = int(progress//10 + 1)\n",
    "        print(num_stars * \"*\" + (10 - num_stars) * \"-\", f\"{progress:.2f}%\", flush=True)\n",
    "        clear_output(wait=True)\n",
    "    \n",
    "\n",
    "\n",
    "def append_to_file(new_data, filename=\"fundamental_data.json\"):\n",
    "    with open(filename,'r+') as file:\n",
    "        # First we load existing data into a dict.\n",
    "        file_data = json.load(file)\n",
    "        # Join new_data with file_data inside emp_details\n",
    "        file_data[\"result\"].append(new_data)\n",
    "        # Sets file's current position at offset.\n",
    "        file.seek(0)\n",
    "        # convert back to json.\n",
    "        json.dump(file_data, file, indent = 4)"
   ]
  },
  {
   "cell_type": "code",
   "execution_count": 5,
   "metadata": {},
   "outputs": [
    {
     "ename": "KeyboardInterrupt",
     "evalue": "",
     "output_type": "error",
     "traceback": [
      "\u001b[0;31m---------------------------------------------------------------------------\u001b[0m",
      "\u001b[0;31mKeyboardInterrupt\u001b[0m                         Traceback (most recent call last)",
      "Cell \u001b[0;32mIn[5], line 22\u001b[0m\n\u001b[1;32m     19\u001b[0m \u001b[38;5;66;03m# Load into list\u001b[39;00m\n\u001b[1;32m     20\u001b[0m ticker_list \u001b[38;5;241m=\u001b[39m \u001b[38;5;28mlist\u001b[39m(ticker_data[\u001b[38;5;124m\"\u001b[39m\u001b[38;5;124mCode\u001b[39m\u001b[38;5;124m\"\u001b[39m] \u001b[38;5;241m+\u001b[39m \u001b[38;5;124m\"\u001b[39m\u001b[38;5;124m.US\u001b[39m\u001b[38;5;124m\"\u001b[39m) \u001b[38;5;66;03m# Easier to plug into EOD api call\u001b[39;00m\n\u001b[0;32m---> 22\u001b[0m data \u001b[38;5;241m=\u001b[39m \u001b[43mget_fundamental_data\u001b[49m\u001b[43m(\u001b[49m\u001b[43mticker_list\u001b[49m\u001b[43m)\u001b[49m\n",
      "Cell \u001b[0;32mIn[4], line 13\u001b[0m, in \u001b[0;36mget_fundamental_data\u001b[0;34m(ticker_list)\u001b[0m\n\u001b[1;32m     11\u001b[0m \u001b[38;5;28;01mexcept\u001b[39;00m:\n\u001b[1;32m     12\u001b[0m     \u001b[38;5;28;01mcontinue\u001b[39;00m\n\u001b[0;32m---> 13\u001b[0m \u001b[43mappend_to_file\u001b[49m\u001b[43m(\u001b[49m\u001b[43mresponse\u001b[49m\u001b[43m)\u001b[49m\n\u001b[1;32m     15\u001b[0m \u001b[38;5;66;03m# Show progression\u001b[39;00m\n\u001b[1;32m     16\u001b[0m progress \u001b[38;5;241m=\u001b[39m (i\u001b[38;5;241m/\u001b[39m\u001b[38;5;28mlen\u001b[39m(ticker_list)\u001b[38;5;241m*\u001b[39m\u001b[38;5;241m100\u001b[39m)\n",
      "Cell \u001b[0;32mIn[4], line 32\u001b[0m, in \u001b[0;36mappend_to_file\u001b[0;34m(new_data, filename)\u001b[0m\n\u001b[1;32m     30\u001b[0m file\u001b[38;5;241m.\u001b[39mseek(\u001b[38;5;241m0\u001b[39m)\n\u001b[1;32m     31\u001b[0m \u001b[38;5;66;03m# convert back to json.\u001b[39;00m\n\u001b[0;32m---> 32\u001b[0m \u001b[43mjson\u001b[49m\u001b[38;5;241;43m.\u001b[39;49m\u001b[43mdump\u001b[49m\u001b[43m(\u001b[49m\u001b[43mfile_data\u001b[49m\u001b[43m,\u001b[49m\u001b[43m \u001b[49m\u001b[43mfile\u001b[49m\u001b[43m,\u001b[49m\u001b[43m \u001b[49m\u001b[43mindent\u001b[49m\u001b[43m \u001b[49m\u001b[38;5;241;43m=\u001b[39;49m\u001b[43m \u001b[49m\u001b[38;5;241;43m4\u001b[39;49m\u001b[43m)\u001b[49m\n",
      "File \u001b[0;32m~/.python/current/lib/python3.12/json/__init__.py:180\u001b[0m, in \u001b[0;36mdump\u001b[0;34m(obj, fp, skipkeys, ensure_ascii, check_circular, allow_nan, cls, indent, separators, default, sort_keys, **kw)\u001b[0m\n\u001b[1;32m    177\u001b[0m \u001b[38;5;66;03m# could accelerate with writelines in some versions of Python, at\u001b[39;00m\n\u001b[1;32m    178\u001b[0m \u001b[38;5;66;03m# a debuggability cost\u001b[39;00m\n\u001b[1;32m    179\u001b[0m \u001b[38;5;28;01mfor\u001b[39;00m chunk \u001b[38;5;129;01min\u001b[39;00m iterable:\n\u001b[0;32m--> 180\u001b[0m     \u001b[43mfp\u001b[49m\u001b[38;5;241;43m.\u001b[39;49m\u001b[43mwrite\u001b[49m\u001b[43m(\u001b[49m\u001b[43mchunk\u001b[49m\u001b[43m)\u001b[49m\n",
      "\u001b[0;31mKeyboardInterrupt\u001b[0m: "
     ]
    }
   ],
   "source": [
    "import pandas as pd\n",
    "import requests\n",
    "import numpy as np\n",
    "import json\n",
    "\n",
    "# Download stock tickers listed on NASDAQ (use if NASDAQ have new listings)\n",
    "\"\"\"\n",
    "EXCHANGE_CODE=\"NASDAQ\"\n",
    "url = f\"https://eodhd.com/api/exchange-symbol-list/{EXCHANGE_CODE}?api_token=667822cc36e777.79338265&fmt=json\"\n",
    "response = requests.get(url)\n",
    "ticker_data = pd.DataFrame(response.json())\n",
    "ticker_data.to_csv(\"tickers.csv\", index=False)\n",
    "ticker_data\n",
    "\"\"\"\n",
    "\n",
    "# Load stock tickers\n",
    "ticker_data = pd.read_csv(\"tickers.csv\")\n",
    "\n",
    "# Load into list\n",
    "ticker_list = list(ticker_data[\"Code\"] + \".US\") # Easier to plug into EOD api call\n",
    "\n",
    "data = get_fundamental_data(ticker_list)\n"
   ]
  },
  {
   "cell_type": "code",
   "execution_count": 10,
   "metadata": {},
   "outputs": [],
   "source": [
    "json_object = json.dumps(data, indent=4)\n",
    "with open(\"fundamental_data.json\", \"w\") as file:\n",
    "    file.write(json_object)"
   ]
  },
  {
   "cell_type": "markdown",
   "metadata": {},
   "source": [
    "<h1>Part 2: Conditional Portfolio Optimisation</h1>"
   ]
  },
  {
   "cell_type": "code",
   "execution_count": 51,
   "metadata": {},
   "outputs": [
    {
     "name": "stdout",
     "output_type": "stream",
     "text": [
      "[-1.0856306   0.99734545  0.2829785  -1.50629471 -0.57860025  1.65143654\n",
      " -2.42667924 -0.42891263  1.26593626 -0.8667404 ]\n",
      "[-0.67888615 -0.09470897  1.49138963 -0.638902   -0.44398196 -0.43435128\n",
      "  2.20593008  2.18678609  1.0040539   0.3861864   0.73736858]\n"
     ]
    },
    {
     "data": {
      "text/plain": [
       "0.13102032113541398"
      ]
     },
     "execution_count": 51,
     "metadata": {},
     "output_type": "execute_result"
    }
   ],
   "source": [
    "# We first want to define a few objective functions we are trying to maximise\n",
    "def alpha(rp: float, rm: float, rf_rate: float, beta: float) -> float:\n",
    "    \"\"\"\n",
    "    rp: the return of the portfolio\n",
    "    rm: the return of the market\n",
    "    rf_rate: the risk free rate\n",
    "    beta: assets beta\n",
    "    Calculate alpha of given asset return.\n",
    "    \"\"\"\n",
    "    return (rp - rf_rate - beta * (rm - rf_rate))\n",
    "\n",
    "def beta(asset_price_series:list[float], market_price_series:list[float]) -> float:\n",
    "    if len(asset_price_series) > len(market_price_series):\n",
    "        asset_price_series = asset_price_series[len(asset_price_series) - len(market_price_series):]\n",
    "    elif len(market_price_series) > len(asset_price_series):\n",
    "        market_price_series = market_price_series[len(market_price_series) - len(asset_price_series):]\n",
    "    covariance: float = np.sum((asset_price_series - np.mean(asset_price_series)) * (market_price_series - np.mean(market_price_series))) / len(asset_price_series)\n",
    "    variance: float = np.var(market_price_series)\n",
    "    return covariance / variance\n",
    "\n",
    "# Demonstration\n",
    "np.random.seed(123)\n",
    "series_1 = np.random.randn(10)\n",
    "\n",
    "series_2 = np.random.randn(11)\n",
    "b = beta(series_1, series_2)\n",
    "rp = (series_1[-1] - series_1[0]) / series_1[0]\n",
    "rm = (series_2[-1] - series_2[0]) / series_2[0]\n",
    "rf_rate = 4.2/100\n",
    "print(series_1)\n",
    "print(series_2)\n",
    "alpha(rp, rm, rf_rate, b)"
   ]
  }
 ],
 "metadata": {
  "kernelspec": {
   "display_name": "Python 3",
   "language": "python",
   "name": "python3"
  },
  "language_info": {
   "codemirror_mode": {
    "name": "ipython",
    "version": 3
   },
   "file_extension": ".py",
   "mimetype": "text/x-python",
   "name": "python",
   "nbconvert_exporter": "python",
   "pygments_lexer": "ipython3",
   "version": "3.12.1"
  }
 },
 "nbformat": 4,
 "nbformat_minor": 2
}
